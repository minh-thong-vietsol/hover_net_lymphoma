{
 "cells": [
  {
   "cell_type": "code",
   "execution_count": 3,
   "metadata": {},
   "outputs": [
    {
     "name": "stdout",
     "output_type": "stream",
     "text": [
      "|2024-04-07|19:13:13.552| [INFO] .... Detect #GPUS: 0\n",
      "Traceback (most recent call last):\n",
      "  File \"/Users/tom/Documents/My_code/DeepLympho/hover_net_lymphoma/run_infer.py\", line 181, in <module>\n",
      "    infer = InferManager(**method_args)\n",
      "  File \"/Users/tom/Documents/My_code/DeepLympho/hover_net_lymphoma/infer/base.py\", line 27, in __init__\n",
      "    self.__load_model()\n",
      "  File \"/Users/tom/Documents/My_code/DeepLympho/hover_net_lymphoma/infer/base.py\", line 68, in __load_model\n",
      "    net.load_state_dict(saved_state_dict, strict=True)\n",
      "  File \"/Users/tom/miniconda3/envs/hovernet/lib/python3.10/site-packages/torch/nn/modules/module.py\", line 2153, in load_state_dict\n",
      "    raise RuntimeError('Error(s) in loading state_dict for {}:\\n\\t{}'.format(\n",
      "RuntimeError: Error(s) in loading state_dict for HoVerNet:\n",
      "\tUnexpected key(s) in state_dict: \"decoder.tp.u3.dense.blk_bna.bn.running_var\", \"decoder.tp.u3.dense.blk_bna.bn.running_mean\", \"decoder.tp.u3.dense.units.7.preact_bna/bn.running_mean\", \"decoder.tp.u3.dense.units.7.preact_bna/bn.weight\", \"decoder.tp.u3.dense.units.7.preact_bna/bn.bias\", \"decoder.tp.u3.dense.units.7.conv1/bn.running_var\", \"decoder.tp.u3.dense.units.7.conv1/bn.running_mean\", \"decoder.tp.u3.dense.units.7.conv1/bn.weight\", \"decoder.tp.u3.dense.units.6.preact_bna/bn.running_mean\", \"decoder.tp.u3.dense.units.6.preact_bna/bn.bias\", \"decoder.tp.u3.dense.units.5.preact_bna/bn.bias\", \"decoder.tp.u3.dense.units.5.conv2.weight\", \"decoder.tp.u3.dense.units.5.conv1/bn.running_var\", \"decoder.tp.u3.dense.units.5.conv1/bn.running_mean\", \"decoder.tp.u3.dense.units.4.preact_bna/bn.running_var\", \"decoder.tp.u3.dense.units.4.preact_bna/bn.weight\", \"decoder.tp.u3.dense.units.4.conv1/bn.running_var\", \"decoder.tp.u3.dense.units.4.conv1/bn.running_mean\", \"decoder.tp.u3.dense.units.3.preact_bna/bn.running_mean\", \"decoder.tp.u3.dense.units.3.preact_bna/bn.weight\", \"decoder.tp.u3.dense.units.3.conv1/bn.running_var\", \"decoder.tp.u3.dense.units.2.preact_bna/bn.weight\", \"decoder.tp.u3.dense.units.2.preact_bna/bn.bias\", \"decoder.tp.u3.dense.units.2.conv1/bn.running_mean\", \"decoder.tp.u3.dense.units.2.conv1/bn.weight\", \"decoder.tp.u3.dense.units.2.conv1.weight\", \"decoder.tp.u3.dense.units.1.preact_bna/bn.running_mean\", \"decoder.tp.u3.dense.units.1.conv2.weight\", \"decoder.tp.u3.dense.units.1.conv1/bn.running_mean\", \"decoder.tp.u3.dense.units.1.conv1/bn.weight\", \"decoder.tp.u3.dense.units.1.conv1/bn.bias\", \"decoder.tp.u3.dense.units.1.conv1.weight\", \"decoder.tp.u3.dense.units.0.preact_bna/bn.running_mean\", \"decoder.tp.u3.dense.units.4.conv1/bn.bias\", \"decoder.tp.u3.dense.units.0.preact_bna/bn.weight\", \"decoder.tp.u3.dense.units.0.conv1/bn.running_var\", \"decoder.tp.u3.dense.units.0.conv1/bn.bias\", \"decoder.tp.u3.dense.units.3.conv2.weight\", \"decoder.tp.u3.convf.weight\", \"decoder.tp.u3.conva.weight\", \"decoder.tp.u2.dense.blk_bna.bn.running_var\", \"decoder.tp.u2.dense.blk_bna.bn.weight\", \"decoder.tp.u2.dense.blk_bna.bn.bias\", \"decoder.tp.u2.dense.units.3.preact_bna/bn.running_var\", \"decoder.tp.u3.dense.units.4.preact_bna/bn.bias\", \"decoder.tp.u2.dense.units.3.conv1/bn.bias\", \"decoder.tp.u3.dense.units.4.conv1.weight\", \"decoder.tp.u2.dense.units.2.preact_bna/bn.running_mean\", \"decoder.tp.u2.dense.units.2.preact_bna/bn.weight\", \"decoder.tp.u2.dense.units.2.preact_bna/bn.bias\", \"decoder.tp.u2.dense.units.2.conv2.weight\", \"decoder.tp.u2.dense.units.2.conv1/bn.running_var\", \"decoder.tp.u2.dense.units.2.conv1/bn.bias\", \"decoder.tp.u2.dense.units.1.conv2.weight\", \"decoder.tp.u2.dense.units.1.conv1/bn.running_var\", \"decoder.tp.u2.dense.units.1.conv1.weight\", \"decoder.tp.u2.dense.units.0.preact_bna/bn.running_var\", \"decoder.tp.u2.dense.units.0.preact_bna/bn.running_mean\", \"decoder.tp.u2.dense.units.0.preact_bna/bn.bias\", \"decoder.tp.u2.dense.units.0.conv2.weight\", \"decoder.tp.u3.dense.units.5.preact_bna/bn.running_var\", \"decoder.tp.u2.dense.units.0.conv1/bn.weight\", \"decoder.tp.u2.dense.units.0.conv1/bn.bias\", \"decoder.tp.u2.dense.units.2.conv1/bn.weight\", \"decoder.tp.u2.convf.weight\", \"decoder.tp.u1.conva.weight\", \"decoder.tp.u0.bn.running_var\", \"decoder.tp.u0.bn.bias\", \"decoder.tp.u2.dense.units.1.conv1/bn.running_mean\", \"decoder.tp.u3.dense.units.6.conv1/bn.weight\", \"decoder.tp.u3.dense.units.5.conv1.weight\", \"decoder.tp.u2.conva.weight\", \"decoder.tp.u2.dense.units.2.conv1/bn.running_mean\", \"decoder.tp.u3.dense.units.0.conv2.weight\", \"decoder.tp.u3.dense.blk_bna.bn.weight\", \"decoder.tp.u3.dense.units.1.conv1/bn.running_var\", \"decoder.tp.u3.dense.units.6.conv2.weight\", \"decoder.tp.u3.dense.units.4.preact_bna/bn.running_mean\", \"decoder.tp.u2.dense.units.0.conv1/bn.running_var\", \"decoder.tp.u3.dense.units.4.conv2.weight\", \"decoder.tp.u2.dense.units.3.preact_bna/bn.running_mean\", \"decoder.tp.u3.dense.units.5.conv1/bn.bias\", \"decoder.tp.u2.dense.units.1.preact_bna/bn.weight\", \"decoder.tp.u3.dense.units.0.conv1.weight\", \"decoder.tp.u3.dense.units.6.preact_bna/bn.running_var\", \"decoder.tp.u2.dense.units.1.preact_bna/bn.running_mean\", \"decoder.tp.u2.dense.units.0.conv1/bn.running_mean\", \"decoder.tp.u2.dense.units.3.conv1.weight\", \"decoder.tp.u3.dense.units.6.preact_bna/bn.weight\", \"decoder.tp.u3.dense.units.5.conv1/bn.weight\", \"decoder.tp.u3.dense.units.6.conv1.weight\", \"decoder.tp.u3.dense.units.4.conv1/bn.weight\", \"decoder.tp.u0.bn.running_mean\", \"decoder.tp.u3.dense.units.0.conv1/bn.weight\", \"decoder.tp.u2.dense.units.1.conv1/bn.weight\", \"decoder.tp.u3.dense.units.5.preact_bna/bn.weight\", \"decoder.tp.u3.dense.units.6.conv1/bn.bias\", \"decoder.tp.u3.dense.units.3.preact_bna/bn.bias\", \"decoder.tp.u3.dense.units.2.conv1/bn.bias\", \"decoder.tp.u2.dense.units.1.conv1/bn.bias\", \"decoder.tp.u3.dense.blk_bna.bn.bias\", \"decoder.tp.u0.conv.weight\", \"decoder.tp.u3.dense.units.0.preact_bna/bn.bias\", \"decoder.tp.u2.dense.blk_bna.bn.running_mean\", \"decoder.tp.u3.dense.units.3.preact_bna/bn.running_var\", \"decoder.tp.u3.dense.units.3.conv1/bn.weight\", \"decoder.tp.u2.dense.units.1.preact_bna/bn.bias\", \"decoder.tp.u3.dense.units.3.conv1/bn.running_mean\", \"decoder.tp.u2.dense.units.2.conv1.weight\", \"decoder.tp.u3.dense.units.2.conv2.weight\", \"decoder.tp.u0.conv.bias\", \"decoder.tp.u3.dense.units.7.preact_bna/bn.running_var\", \"decoder.tp.u2.dense.units.3.preact_bna/bn.weight\", \"decoder.tp.u2.dense.units.1.preact_bna/bn.running_var\", \"decoder.tp.u2.dense.units.3.conv2.weight\", \"decoder.tp.u3.dense.units.2.preact_bna/bn.running_var\", \"decoder.tp.u3.dense.units.3.conv1.weight\", \"decoder.tp.u2.dense.units.3.preact_bna/bn.bias\", \"decoder.tp.u3.dense.units.0.conv1/bn.running_mean\", \"decoder.tp.u0.bn.weight\", \"decoder.tp.u3.dense.units.7.conv1/bn.bias\", \"decoder.tp.u2.dense.units.3.conv1/bn.running_var\", \"decoder.tp.u3.dense.units.1.preact_bna/bn.weight\", \"decoder.tp.u2.dense.units.3.conv1/bn.weight\", \"decoder.tp.u2.dense.units.3.conv1/bn.running_mean\", \"decoder.tp.u2.dense.units.0.preact_bna/bn.weight\", \"decoder.tp.u3.dense.units.3.conv1/bn.bias\", \"decoder.tp.u3.dense.units.7.conv2.weight\", \"decoder.tp.u3.dense.units.0.preact_bna/bn.running_var\", \"decoder.tp.u2.dense.units.2.preact_bna/bn.running_var\", \"decoder.tp.u3.dense.units.2.conv1/bn.running_var\", \"decoder.tp.u3.dense.units.1.preact_bna/bn.running_var\", \"decoder.tp.u3.dense.units.7.conv1.weight\", \"decoder.tp.u3.dense.units.1.preact_bna/bn.bias\", \"decoder.tp.u3.dense.units.6.conv1/bn.running_mean\", \"decoder.tp.u3.dense.units.2.preact_bna/bn.running_mean\", \"decoder.tp.u3.dense.units.6.conv1/bn.running_var\", \"decoder.tp.u3.dense.units.5.preact_bna/bn.running_mean\", \"decoder.tp.u2.dense.units.0.conv1.weight\". \n",
      "\tsize mismatch for decoder.np.u3.conva.weight: copying a param with shape torch.Size([256, 1024, 5, 5]) from checkpoint, the shape in current model is torch.Size([256, 1024, 3, 3]).\n",
      "\tsize mismatch for decoder.np.u3.dense.units.0.conv2.weight: copying a param with shape torch.Size([32, 32, 5, 5]) from checkpoint, the shape in current model is torch.Size([32, 32, 3, 3]).\n",
      "\tsize mismatch for decoder.np.u3.dense.units.1.conv2.weight: copying a param with shape torch.Size([32, 32, 5, 5]) from checkpoint, the shape in current model is torch.Size([32, 32, 3, 3]).\n",
      "\tsize mismatch for decoder.np.u3.dense.units.2.conv2.weight: copying a param with shape torch.Size([32, 32, 5, 5]) from checkpoint, the shape in current model is torch.Size([32, 32, 3, 3]).\n",
      "\tsize mismatch for decoder.np.u3.dense.units.3.conv2.weight: copying a param with shape torch.Size([32, 32, 5, 5]) from checkpoint, the shape in current model is torch.Size([32, 32, 3, 3]).\n",
      "\tsize mismatch for decoder.np.u3.dense.units.4.conv2.weight: copying a param with shape torch.Size([32, 32, 5, 5]) from checkpoint, the shape in current model is torch.Size([32, 32, 3, 3]).\n",
      "\tsize mismatch for decoder.np.u3.dense.units.5.conv2.weight: copying a param with shape torch.Size([32, 32, 5, 5]) from checkpoint, the shape in current model is torch.Size([32, 32, 3, 3]).\n",
      "\tsize mismatch for decoder.np.u3.dense.units.6.conv2.weight: copying a param with shape torch.Size([32, 32, 5, 5]) from checkpoint, the shape in current model is torch.Size([32, 32, 3, 3]).\n",
      "\tsize mismatch for decoder.np.u3.dense.units.7.conv2.weight: copying a param with shape torch.Size([32, 32, 5, 5]) from checkpoint, the shape in current model is torch.Size([32, 32, 3, 3]).\n",
      "\tsize mismatch for decoder.np.u2.conva.weight: copying a param with shape torch.Size([128, 512, 5, 5]) from checkpoint, the shape in current model is torch.Size([128, 512, 3, 3]).\n",
      "\tsize mismatch for decoder.np.u2.dense.units.0.conv2.weight: copying a param with shape torch.Size([32, 32, 5, 5]) from checkpoint, the shape in current model is torch.Size([32, 32, 3, 3]).\n",
      "\tsize mismatch for decoder.np.u2.dense.units.1.conv2.weight: copying a param with shape torch.Size([32, 32, 5, 5]) from checkpoint, the shape in current model is torch.Size([32, 32, 3, 3]).\n",
      "\tsize mismatch for decoder.np.u2.dense.units.2.conv2.weight: copying a param with shape torch.Size([32, 32, 5, 5]) from checkpoint, the shape in current model is torch.Size([32, 32, 3, 3]).\n",
      "\tsize mismatch for decoder.np.u2.dense.units.3.conv2.weight: copying a param with shape torch.Size([32, 32, 5, 5]) from checkpoint, the shape in current model is torch.Size([32, 32, 3, 3]).\n",
      "\tsize mismatch for decoder.np.u1.conva.weight: copying a param with shape torch.Size([64, 256, 5, 5]) from checkpoint, the shape in current model is torch.Size([64, 256, 3, 3]).\n",
      "\tsize mismatch for decoder.hv.u3.conva.weight: copying a param with shape torch.Size([256, 1024, 5, 5]) from checkpoint, the shape in current model is torch.Size([256, 1024, 3, 3]).\n",
      "\tsize mismatch for decoder.hv.u3.dense.units.0.conv2.weight: copying a param with shape torch.Size([32, 32, 5, 5]) from checkpoint, the shape in current model is torch.Size([32, 32, 3, 3]).\n",
      "\tsize mismatch for decoder.hv.u3.dense.units.1.conv2.weight: copying a param with shape torch.Size([32, 32, 5, 5]) from checkpoint, the shape in current model is torch.Size([32, 32, 3, 3]).\n",
      "\tsize mismatch for decoder.hv.u3.dense.units.2.conv2.weight: copying a param with shape torch.Size([32, 32, 5, 5]) from checkpoint, the shape in current model is torch.Size([32, 32, 3, 3]).\n",
      "\tsize mismatch for decoder.hv.u3.dense.units.3.conv2.weight: copying a param with shape torch.Size([32, 32, 5, 5]) from checkpoint, the shape in current model is torch.Size([32, 32, 3, 3]).\n",
      "\tsize mismatch for decoder.hv.u3.dense.units.4.conv2.weight: copying a param with shape torch.Size([32, 32, 5, 5]) from checkpoint, the shape in current model is torch.Size([32, 32, 3, 3]).\n",
      "\tsize mismatch for decoder.hv.u3.dense.units.5.conv2.weight: copying a param with shape torch.Size([32, 32, 5, 5]) from checkpoint, the shape in current model is torch.Size([32, 32, 3, 3]).\n",
      "\tsize mismatch for decoder.hv.u3.dense.units.6.conv2.weight: copying a param with shape torch.Size([32, 32, 5, 5]) from checkpoint, the shape in current model is torch.Size([32, 32, 3, 3]).\n",
      "\tsize mismatch for decoder.hv.u3.dense.units.7.conv2.weight: copying a param with shape torch.Size([32, 32, 5, 5]) from checkpoint, the shape in current model is torch.Size([32, 32, 3, 3]).\n",
      "\tsize mismatch for decoder.hv.u2.conva.weight: copying a param with shape torch.Size([128, 512, 5, 5]) from checkpoint, the shape in current model is torch.Size([128, 512, 3, 3]).\n",
      "\tsize mismatch for decoder.hv.u2.dense.units.0.conv2.weight: copying a param with shape torch.Size([32, 32, 5, 5]) from checkpoint, the shape in current model is torch.Size([32, 32, 3, 3]).\n",
      "\tsize mismatch for decoder.hv.u2.dense.units.1.conv2.weight: copying a param with shape torch.Size([32, 32, 5, 5]) from checkpoint, the shape in current model is torch.Size([32, 32, 3, 3]).\n",
      "\tsize mismatch for decoder.hv.u2.dense.units.2.conv2.weight: copying a param with shape torch.Size([32, 32, 5, 5]) from checkpoint, the shape in current model is torch.Size([32, 32, 3, 3]).\n",
      "\tsize mismatch for decoder.hv.u2.dense.units.3.conv2.weight: copying a param with shape torch.Size([32, 32, 5, 5]) from checkpoint, the shape in current model is torch.Size([32, 32, 3, 3]).\n",
      "\tsize mismatch for decoder.hv.u1.conva.weight: copying a param with shape torch.Size([64, 256, 5, 5]) from checkpoint, the shape in current model is torch.Size([64, 256, 3, 3]).\n"
     ]
    }
   ],
   "source": [
    "!python run_infer.py --model_path models/weights/hovernet_original_consep_type_tf2pytorch.tar tile --input_dir=data --output_dir=output "
   ]
  },
  {
   "cell_type": "code",
   "execution_count": 4,
   "metadata": {},
   "outputs": [
    {
     "name": "stdout",
     "output_type": "stream",
     "text": [
      "zsh:cd:1: no such file or directory: list\n"
     ]
    }
   ],
   "source": [
    "!cd "
   ]
  }
 ],
 "metadata": {
  "kernelspec": {
   "display_name": "hovernet",
   "language": "python",
   "name": "python3"
  },
  "language_info": {
   "codemirror_mode": {
    "name": "ipython",
    "version": 3
   },
   "file_extension": ".py",
   "mimetype": "text/x-python",
   "name": "python",
   "nbconvert_exporter": "python",
   "pygments_lexer": "ipython3",
   "version": "3.10.0"
  }
 },
 "nbformat": 4,
 "nbformat_minor": 2
}
