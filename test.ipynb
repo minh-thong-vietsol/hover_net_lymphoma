{
 "cells": [
  {
   "cell_type": "code",
   "execution_count": 13,
   "metadata": {},
   "outputs": [
    {
     "name": "stdout",
     "output_type": "stream",
     "text": [
      "|2024-04-13|10:44:34.120| [INFO] .... Detect #GPUS: 0\n",
      "Traceback (most recent call last):\n",
      "  File \"/Users/tom/Documents/My_code/DeepLympho/hover_net_lymphoma/run_infer.py\", line 205, in <module>\n",
      "    infer = InferManager(**method_args)\n",
      "  File \"/Users/tom/Documents/My_code/DeepLympho/hover_net_lymphoma/infer/base.py\", line 27, in __init__\n",
      "    self.__load_model()\n",
      "  File \"/Users/tom/Documents/My_code/DeepLympho/hover_net_lymphoma/infer/base.py\", line 68, in __load_model\n",
      "    net.load_state_dict(saved_state_dict, strict=True)\n",
      "  File \"/Users/tom/miniconda3/envs/hovernet/lib/python3.10/site-packages/torch/nn/modules/module.py\", line 2153, in load_state_dict\n",
      "    raise RuntimeError('Error(s) in loading state_dict for {}:\\n\\t{}'.format(\n",
      "RuntimeError: Error(s) in loading state_dict for HoVerNet:\n",
      "\tUnexpected key(s) in state_dict: \"decoder.tp.u0.conv.weight\", \"decoder.tp.u0.conv.bias\", \"decoder.tp.u0.bn.bias\", \"decoder.tp.u0.bn.weight\", \"decoder.tp.u0.bn.running_mean\", \"decoder.tp.u0.bn.running_var\", \"decoder.tp.u1.conva.weight\", \"decoder.tp.u2.conva.weight\", \"decoder.tp.u2.convf.weight\", \"decoder.tp.u2.dense.units.0.conv1.weight\", \"decoder.tp.u2.dense.units.0.conv1/bn.bias\", \"decoder.tp.u2.dense.units.0.conv1/bn.weight\", \"decoder.tp.u2.dense.units.0.conv1/bn.running_mean\", \"decoder.tp.u2.dense.units.0.conv1/bn.running_var\", \"decoder.tp.u2.dense.units.0.conv2.weight\", \"decoder.tp.u2.dense.units.0.preact_bna/bn.bias\", \"decoder.tp.u2.dense.units.0.preact_bna/bn.weight\", \"decoder.tp.u2.dense.units.0.preact_bna/bn.running_mean\", \"decoder.tp.u2.dense.units.0.preact_bna/bn.running_var\", \"decoder.tp.u2.dense.units.1.conv1.weight\", \"decoder.tp.u2.dense.units.1.conv1/bn.bias\", \"decoder.tp.u2.dense.units.1.conv1/bn.weight\", \"decoder.tp.u2.dense.units.1.conv1/bn.running_mean\", \"decoder.tp.u2.dense.units.1.conv1/bn.running_var\", \"decoder.tp.u2.dense.units.1.conv2.weight\", \"decoder.tp.u2.dense.units.1.preact_bna/bn.bias\", \"decoder.tp.u2.dense.units.1.preact_bna/bn.weight\", \"decoder.tp.u2.dense.units.1.preact_bna/bn.running_mean\", \"decoder.tp.u2.dense.units.1.preact_bna/bn.running_var\", \"decoder.tp.u2.dense.units.2.conv1.weight\", \"decoder.tp.u2.dense.units.2.conv1/bn.bias\", \"decoder.tp.u2.dense.units.2.conv1/bn.weight\", \"decoder.tp.u2.dense.units.2.conv1/bn.running_mean\", \"decoder.tp.u2.dense.units.2.conv1/bn.running_var\", \"decoder.tp.u2.dense.units.2.conv2.weight\", \"decoder.tp.u2.dense.units.2.preact_bna/bn.bias\", \"decoder.tp.u2.dense.units.2.preact_bna/bn.weight\", \"decoder.tp.u2.dense.units.2.preact_bna/bn.running_mean\", \"decoder.tp.u2.dense.units.2.preact_bna/bn.running_var\", \"decoder.tp.u2.dense.units.3.conv1.weight\", \"decoder.tp.u2.dense.units.3.conv1/bn.bias\", \"decoder.tp.u2.dense.units.3.conv1/bn.weight\", \"decoder.tp.u2.dense.units.3.conv1/bn.running_mean\", \"decoder.tp.u2.dense.units.3.conv1/bn.running_var\", \"decoder.tp.u2.dense.units.3.conv2.weight\", \"decoder.tp.u2.dense.units.3.preact_bna/bn.bias\", \"decoder.tp.u2.dense.units.3.preact_bna/bn.weight\", \"decoder.tp.u2.dense.units.3.preact_bna/bn.running_mean\", \"decoder.tp.u2.dense.units.3.preact_bna/bn.running_var\", \"decoder.tp.u2.dense.blk_bna.bn.bias\", \"decoder.tp.u2.dense.blk_bna.bn.weight\", \"decoder.tp.u2.dense.blk_bna.bn.running_mean\", \"decoder.tp.u2.dense.blk_bna.bn.running_var\", \"decoder.tp.u3.conva.weight\", \"decoder.tp.u3.convf.weight\", \"decoder.tp.u3.dense.units.0.conv1.weight\", \"decoder.tp.u3.dense.units.0.conv1/bn.bias\", \"decoder.tp.u3.dense.units.0.conv1/bn.weight\", \"decoder.tp.u3.dense.units.0.conv1/bn.running_mean\", \"decoder.tp.u3.dense.units.0.conv1/bn.running_var\", \"decoder.tp.u3.dense.units.0.conv2.weight\", \"decoder.tp.u3.dense.units.0.preact_bna/bn.bias\", \"decoder.tp.u3.dense.units.0.preact_bna/bn.weight\", \"decoder.tp.u3.dense.units.0.preact_bna/bn.running_mean\", \"decoder.tp.u3.dense.units.0.preact_bna/bn.running_var\", \"decoder.tp.u3.dense.units.1.conv1.weight\", \"decoder.tp.u3.dense.units.1.conv1/bn.bias\", \"decoder.tp.u3.dense.units.1.conv1/bn.weight\", \"decoder.tp.u3.dense.units.1.conv1/bn.running_mean\", \"decoder.tp.u3.dense.units.1.conv1/bn.running_var\", \"decoder.tp.u3.dense.units.1.conv2.weight\", \"decoder.tp.u3.dense.units.1.preact_bna/bn.bias\", \"decoder.tp.u3.dense.units.1.preact_bna/bn.weight\", \"decoder.tp.u3.dense.units.1.preact_bna/bn.running_mean\", \"decoder.tp.u3.dense.units.1.preact_bna/bn.running_var\", \"decoder.tp.u3.dense.units.2.conv1.weight\", \"decoder.tp.u3.dense.units.2.conv1/bn.bias\", \"decoder.tp.u3.dense.units.2.conv1/bn.weight\", \"decoder.tp.u3.dense.units.2.conv1/bn.running_mean\", \"decoder.tp.u3.dense.units.2.conv1/bn.running_var\", \"decoder.tp.u3.dense.units.2.conv2.weight\", \"decoder.tp.u3.dense.units.2.preact_bna/bn.bias\", \"decoder.tp.u3.dense.units.2.preact_bna/bn.weight\", \"decoder.tp.u3.dense.units.2.preact_bna/bn.running_mean\", \"decoder.tp.u3.dense.units.2.preact_bna/bn.running_var\", \"decoder.tp.u3.dense.units.3.conv1.weight\", \"decoder.tp.u3.dense.units.3.conv1/bn.bias\", \"decoder.tp.u3.dense.units.3.conv1/bn.weight\", \"decoder.tp.u3.dense.units.3.conv1/bn.running_mean\", \"decoder.tp.u3.dense.units.3.conv1/bn.running_var\", \"decoder.tp.u3.dense.units.3.conv2.weight\", \"decoder.tp.u3.dense.units.3.preact_bna/bn.bias\", \"decoder.tp.u3.dense.units.3.preact_bna/bn.weight\", \"decoder.tp.u3.dense.units.3.preact_bna/bn.running_mean\", \"decoder.tp.u3.dense.units.3.preact_bna/bn.running_var\", \"decoder.tp.u3.dense.units.4.conv1.weight\", \"decoder.tp.u3.dense.units.4.conv1/bn.bias\", \"decoder.tp.u3.dense.units.4.conv1/bn.weight\", \"decoder.tp.u3.dense.units.4.conv1/bn.running_mean\", \"decoder.tp.u3.dense.units.4.conv1/bn.running_var\", \"decoder.tp.u3.dense.units.4.conv2.weight\", \"decoder.tp.u3.dense.units.4.preact_bna/bn.bias\", \"decoder.tp.u3.dense.units.4.preact_bna/bn.weight\", \"decoder.tp.u3.dense.units.4.preact_bna/bn.running_mean\", \"decoder.tp.u3.dense.units.4.preact_bna/bn.running_var\", \"decoder.tp.u3.dense.units.5.conv1.weight\", \"decoder.tp.u3.dense.units.5.conv1/bn.bias\", \"decoder.tp.u3.dense.units.5.conv1/bn.weight\", \"decoder.tp.u3.dense.units.5.conv1/bn.running_mean\", \"decoder.tp.u3.dense.units.5.conv1/bn.running_var\", \"decoder.tp.u3.dense.units.5.conv2.weight\", \"decoder.tp.u3.dense.units.5.preact_bna/bn.bias\", \"decoder.tp.u3.dense.units.5.preact_bna/bn.weight\", \"decoder.tp.u3.dense.units.5.preact_bna/bn.running_mean\", \"decoder.tp.u3.dense.units.5.preact_bna/bn.running_var\", \"decoder.tp.u3.dense.units.6.conv1.weight\", \"decoder.tp.u3.dense.units.6.conv1/bn.bias\", \"decoder.tp.u3.dense.units.6.conv1/bn.weight\", \"decoder.tp.u3.dense.units.6.conv1/bn.running_mean\", \"decoder.tp.u3.dense.units.6.conv1/bn.running_var\", \"decoder.tp.u3.dense.units.6.conv2.weight\", \"decoder.tp.u3.dense.units.6.preact_bna/bn.bias\", \"decoder.tp.u3.dense.units.6.preact_bna/bn.weight\", \"decoder.tp.u3.dense.units.6.preact_bna/bn.running_mean\", \"decoder.tp.u3.dense.units.6.preact_bna/bn.running_var\", \"decoder.tp.u3.dense.units.7.conv1.weight\", \"decoder.tp.u3.dense.units.7.conv1/bn.bias\", \"decoder.tp.u3.dense.units.7.conv1/bn.weight\", \"decoder.tp.u3.dense.units.7.conv1/bn.running_mean\", \"decoder.tp.u3.dense.units.7.conv1/bn.running_var\", \"decoder.tp.u3.dense.units.7.conv2.weight\", \"decoder.tp.u3.dense.units.7.preact_bna/bn.bias\", \"decoder.tp.u3.dense.units.7.preact_bna/bn.weight\", \"decoder.tp.u3.dense.units.7.preact_bna/bn.running_mean\", \"decoder.tp.u3.dense.units.7.preact_bna/bn.running_var\", \"decoder.tp.u3.dense.blk_bna.bn.bias\", \"decoder.tp.u3.dense.blk_bna.bn.weight\", \"decoder.tp.u3.dense.blk_bna.bn.running_mean\", \"decoder.tp.u3.dense.blk_bna.bn.running_var\". \n"
     ]
    },
    {
     "ename": "",
     "evalue": "",
     "output_type": "error",
     "traceback": [
      "\u001b[1;31mThe Kernel crashed while executing code in the current cell or a previous cell. \n",
      "\u001b[1;31mPlease review the code in the cell(s) to identify a possible cause of the failure. \n",
      "\u001b[1;31mClick <a href='https://aka.ms/vscodeJupyterKernelCrash'>here</a> for more info. \n",
      "\u001b[1;31mView Jupyter <a href='command:jupyter.viewOutput'>log</a> for further details."
     ]
    }
   ],
   "source": [
    "!python run_infer.py --model_path=models/weights/hovernet_fast_monusac_type_tf2pytorch.tar tile --input_dir=data/MoNuSAC/MoNuSeg_2018_Training_Data/Tissue_Images --output_dir=output "
   ]
  },
  {
   "cell_type": "code",
   "execution_count": 10,
   "metadata": {},
   "outputs": [
    {
     "name": "stdout",
     "output_type": "stream",
     "text": [
      "|2024-04-13|10:40:54.055| [INFO] ........ No GPU detected. Switching to CPU mode.\n",
      "Traceback (most recent call last):\n",
      "  File \"/Users/tom/Documents/My_code/DeepLympho/hover_net_lymphoma/run_infer.py\", line 139, in <module>\n",
      "    saved_state_dict = load_model(self.method[\"model_path\"])\n",
      "NameError: name 'self' is not defined\n"
     ]
    }
   ],
   "source": [
    "!python run_infer.py --model_path=models/weights/he.tar tile --input_dir=data/MoNuSAC/MoNuSeg_2018_Training_Data/Tissue_Images --output_dir=output "
   ]
  },
  {
   "cell_type": "code",
   "execution_count": 5,
   "metadata": {},
   "outputs": [],
   "source": [
    "!cd "
   ]
  },
  {
   "cell_type": "code",
   "execution_count": 3,
   "metadata": {},
   "outputs": [],
   "source": [
    "from data.data_manipulation.he_to_masks import he_to_binary_mask"
   ]
  },
  {
   "cell_type": "code",
   "execution_count": 2,
   "metadata": {},
   "outputs": [],
   "source": [
    "\n",
    "\n",
    "image = 'data/MoNuSAC/MoNuSeg_2018_Training_Data/Tissue_Images/TCGA-18-5592-01Z-00-DX1.tif'\n",
    "annotation = 'data/MoNuSAC/MoNuSeg_2018_Training_Data/Annotations/TCGA-18-5592-01Z-00-DX1.xml'\n",
    "he_to_binary_mask(image, annotation)"
   ]
  }
 ],
 "metadata": {
  "kernelspec": {
   "display_name": "hovernet",
   "language": "python",
   "name": "python3"
  },
  "language_info": {
   "codemirror_mode": {
    "name": "ipython",
    "version": 3
   },
   "file_extension": ".py",
   "mimetype": "text/x-python",
   "name": "python",
   "nbconvert_exporter": "python",
   "pygments_lexer": "ipython3",
   "version": "3.10.0"
  }
 },
 "nbformat": 4,
 "nbformat_minor": 2
}
